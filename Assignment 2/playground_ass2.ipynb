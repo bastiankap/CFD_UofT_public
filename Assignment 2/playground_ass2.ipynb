{
 "cells": [
  {
   "cell_type": "code",
   "execution_count": 1,
   "outputs": [],
   "source": [
    "import scipy.sparse.linalg as lng\n",
    "from scipy.sparse import csr_matrix, csc_matrix\n",
    "import time\n",
    "import numpy as np\n",
    "from scipy.sparse import coo_matrix, vstack, dok_matrix\n",
    "from scipy.sparse import csr_matrix"
   ],
   "metadata": {
    "collapsed": false
   }
  },
  {
   "cell_type": "code",
   "execution_count": 2,
   "outputs": [],
   "source": [
    "a_p = 10\n",
    "a_w = 2\n",
    "a_n = 1\n",
    "a_s = 3\n",
    "a_e = 4\n",
    "nx = 3\n",
    "ny = 3"
   ],
   "metadata": {
    "collapsed": false
   }
  },
  {
   "cell_type": "code",
   "execution_count": 3,
   "outputs": [],
   "source": [
    "A = dok_matrix((nx*ny,nx*ny))\n",
    "b = dok_matrix((nx*ny,1))"
   ],
   "metadata": {
    "collapsed": false
   }
  },
  {
   "cell_type": "code",
   "execution_count": 5,
   "outputs": [
    {
     "data": {
      "text/plain": "array([9, 8, 7, 6, 5, 4, 3, 2, 1, 0])"
     },
     "execution_count": 5,
     "metadata": {},
     "output_type": "execute_result"
    }
   ],
   "source": [
    "a = np.arange(10)\n",
    "b = a[::-1]\n",
    "b"
   ],
   "metadata": {
    "collapsed": false
   }
  },
  {
   "cell_type": "code",
   "execution_count": 5,
   "outputs": [
    {
     "name": "stdout",
     "output_type": "stream",
     "text": [
      "4\n",
      "CPU times: total: 0 ns\n",
      "Wall time: 0 ns\n"
     ]
    }
   ],
   "source": [
    "%%time\n",
    "#inner matrix\n",
    "for i in np.arange(1,ny-1):\n",
    "    for j in np.arange(1,nx-1):\n",
    "        k = (i*nx+j)\n",
    "        A[k,k] = a_p\n",
    "        A[k,k+1] = -a_e\n",
    "        A[k,k-1] = -a_w\n",
    "        A[k,k+nx] = -a_s\n",
    "        A[k,k-nx] = -a_n\n",
    "        print(k)"
   ],
   "metadata": {
    "collapsed": false
   }
  },
  {
   "cell_type": "code",
   "execution_count": 6,
   "outputs": [
    {
     "data": {
      "text/plain": "array([[ 0.,  0.,  0.,  0.,  0.,  0.,  0.,  0.,  0.],\n       [ 0.,  0.,  0.,  0.,  0.,  0.,  0.,  0.,  0.],\n       [ 0.,  0.,  0.,  0.,  0.,  0.,  0.,  0.,  0.],\n       [ 0.,  0.,  0.,  0.,  0.,  0.,  0.,  0.,  0.],\n       [ 0., -1.,  0., -2., 10., -4.,  0., -3.,  0.],\n       [ 0.,  0.,  0.,  0.,  0.,  0.,  0.,  0.,  0.],\n       [ 0.,  0.,  0.,  0.,  0.,  0.,  0.,  0.,  0.],\n       [ 0.,  0.,  0.,  0.,  0.,  0.,  0.,  0.,  0.],\n       [ 0.,  0.,  0.,  0.,  0.,  0.,  0.,  0.,  0.]])"
     },
     "execution_count": 6,
     "metadata": {},
     "output_type": "execute_result"
    }
   ],
   "source": [
    "A.toarray()"
   ],
   "metadata": {
    "collapsed": false
   }
  },
  {
   "cell_type": "code",
   "execution_count": 7,
   "outputs": [
    {
     "name": "stdout",
     "output_type": "stream",
     "text": [
      "3\n"
     ]
    }
   ],
   "source": [
    "#left boundary\n",
    "j = 0\n",
    "for i in np.arange(1,ny-1):\n",
    "    k = (i*nx+j)\n",
    "    A[k,k] = a_p\n",
    "    A[k,k+1] = -a_e\n",
    "    A[k,k+nx] = -a_s\n",
    "    A[k,k-nx] = -a_n\n",
    "    b[k] = a_w\n",
    "    print(k)"
   ],
   "metadata": {
    "collapsed": false
   }
  },
  {
   "cell_type": "code",
   "execution_count": 8,
   "outputs": [],
   "source": [
    "#right boundary\n",
    "j=nx-1\n",
    "for i in np.arange(1,ny-1):\n",
    "    k = (i*nx+j)\n",
    "    A[k,k] = a_p\n",
    "    A[k,k-1] = -a_w\n",
    "    A[k,k+nx] = -a_s\n",
    "    A[k,k-nx] = -a_n\n",
    "    b[k] = a_e\n"
   ],
   "metadata": {
    "collapsed": false
   }
  },
  {
   "cell_type": "code",
   "execution_count": 9,
   "outputs": [
    {
     "data": {
      "text/plain": "array([[0.],\n       [0.],\n       [0.],\n       [2.],\n       [0.],\n       [4.],\n       [0.],\n       [0.],\n       [0.]])"
     },
     "execution_count": 9,
     "metadata": {},
     "output_type": "execute_result"
    }
   ],
   "source": [
    "b.toarray()"
   ],
   "metadata": {
    "collapsed": false
   }
  },
  {
   "cell_type": "code",
   "execution_count": 10,
   "outputs": [],
   "source": [
    "a = []\n",
    "a.append(np.array([1,2,3]))\n",
    "a.append(np.array([4,5,6]))"
   ],
   "metadata": {
    "collapsed": false
   }
  },
  {
   "cell_type": "code",
   "execution_count": 11,
   "outputs": [
    {
     "data": {
      "text/plain": "array([[1, 2, 3],\n       [4, 5, 6]])"
     },
     "execution_count": 11,
     "metadata": {},
     "output_type": "execute_result"
    }
   ],
   "source": [
    "np.asarray(a)"
   ],
   "metadata": {
    "collapsed": false
   }
  },
  {
   "cell_type": "code",
   "execution_count": 12,
   "outputs": [
    {
     "data": {
      "text/plain": "array([1, 2])"
     },
     "execution_count": 12,
     "metadata": {},
     "output_type": "execute_result"
    }
   ],
   "source": [
    "b = np.array([1,2,3,4,5,6])\n",
    "b[0:2]"
   ],
   "metadata": {
    "collapsed": false
   }
  },
  {
   "cell_type": "code",
   "execution_count": 13,
   "outputs": [],
   "source": [
    "L = 100\n",
    "nx = 10\n",
    "r = 1.5\n",
    "x_0 = ((1-r)/(1-r**(nx/2)))*L/2\n",
    "delta_x = [x_0]"
   ],
   "metadata": {
    "collapsed": false
   }
  },
  {
   "cell_type": "code",
   "execution_count": 14,
   "outputs": [
    {
     "name": "stdout",
     "output_type": "stream",
     "text": [
      "9.47867298578199\n",
      "18.009478672985782\n",
      "30.80568720379147\n",
      "50.0\n"
     ]
    },
    {
     "data": {
      "text/plain": "[3.7914691943127963,\n 5.687203791469194,\n 8.530805687203792,\n 12.796208530805687,\n 19.194312796208532,\n 19.194312796208532,\n 12.796208530805687,\n 8.530805687203792,\n 5.687203791469194,\n 3.7914691943127963]"
     },
     "execution_count": 14,
     "metadata": {},
     "output_type": "execute_result"
    }
   ],
   "source": [
    "while round(sum(delta_x), ndigits=5) < L/2:\n",
    "    x = delta_x[-1]*r\n",
    "    delta_x.append(x)\n",
    "    print(sum(delta_x))\n",
    "delta_x = delta_x + list(reversed(delta_x))\n",
    "delta_x"
   ],
   "metadata": {
    "collapsed": false
   }
  },
  {
   "cell_type": "code",
   "execution_count": 15,
   "outputs": [],
   "source": [
    "np.array(delta_x)\n",
    "d_x = [x_0]\n",
    "\n",
    "for i in np.arange(0,len(delta_x)-1):\n",
    "    d_x_temp = delta_x[i]/2 + delta_x[i+1]/2\n",
    "    d_x.append(d_x_temp)"
   ],
   "metadata": {
    "collapsed": false
   }
  },
  {
   "cell_type": "code",
   "execution_count": 16,
   "outputs": [
    {
     "data": {
      "text/plain": "[3.7914691943127963,\n 4.739336492890995,\n 7.109004739336493,\n 10.66350710900474,\n 15.99526066350711,\n 19.194312796208532,\n 15.99526066350711,\n 10.66350710900474,\n 7.109004739336493,\n 4.739336492890995]"
     },
     "execution_count": 16,
     "metadata": {},
     "output_type": "execute_result"
    }
   ],
   "source": [
    "d_x"
   ],
   "metadata": {
    "collapsed": false
   }
  },
  {
   "cell_type": "code",
   "execution_count": 17,
   "outputs": [
    {
     "name": "stdout",
     "output_type": "stream",
     "text": [
      "hallo\n",
      "nein\n"
     ]
    }
   ],
   "source": [
    "a = 3\n",
    "\n",
    "if a<5:\n",
    "    print('hallo')\n",
    "\n",
    "if a == 3:\n",
    "    print('nein')"
   ],
   "metadata": {
    "collapsed": false
   }
  },
  {
   "cell_type": "code",
   "execution_count": 18,
   "outputs": [
    {
     "data": {
      "text/plain": "100.00000000000001"
     },
     "execution_count": 18,
     "metadata": {},
     "output_type": "execute_result"
    }
   ],
   "source": [
    "sum(delta_x)"
   ],
   "metadata": {
    "collapsed": false
   }
  },
  {
   "cell_type": "code",
   "execution_count": 19,
   "outputs": [
    {
     "name": "stdout",
     "output_type": "stream",
     "text": [
      "[3, 2, 1]\n"
     ]
    }
   ],
   "source": [
    "a = [1, 2, 3]\n",
    "print(list(reversed(a)))"
   ],
   "metadata": {
    "collapsed": false
   }
  },
  {
   "cell_type": "code",
   "execution_count": 20,
   "outputs": [
    {
     "data": {
      "text/plain": "array([[2., 2., 2., 2., 2., 2., 2., 2., 2., 2.],\n       [0., 0., 0., 0., 0., 0., 0., 0., 0., 0.],\n       [0., 0., 0., 0., 0., 0., 0., 0., 0., 0.],\n       [0., 0., 0., 0., 0., 0., 0., 0., 0., 0.],\n       [0., 0., 0., 0., 0., 0., 0., 0., 0., 0.],\n       [0., 0., 0., 0., 0., 0., 0., 0., 0., 0.],\n       [0., 0., 0., 0., 0., 0., 0., 0., 0., 0.],\n       [0., 0., 0., 0., 0., 0., 0., 0., 0., 0.],\n       [0., 0., 0., 0., 0., 0., 0., 0., 0., 0.],\n       [0., 0., 0., 0., 0., 0., 0., 0., 0., 0.]])"
     },
     "execution_count": 20,
     "metadata": {},
     "output_type": "execute_result"
    }
   ],
   "source": [
    "a = np.zeros(shape=(10,10))\n",
    "a[0,:] = 1\n",
    "a[0,:] = a[0,:]+1\n",
    "a"
   ],
   "metadata": {
    "collapsed": false
   }
  },
  {
   "cell_type": "code",
   "execution_count": 20,
   "outputs": [],
   "source": [],
   "metadata": {
    "collapsed": false
   }
  }
 ],
 "metadata": {
  "kernelspec": {
   "display_name": "Python 3",
   "language": "python",
   "name": "python3"
  },
  "language_info": {
   "codemirror_mode": {
    "name": "ipython",
    "version": 2
   },
   "file_extension": ".py",
   "mimetype": "text/x-python",
   "name": "python",
   "nbconvert_exporter": "python",
   "pygments_lexer": "ipython2",
   "version": "2.7.6"
  }
 },
 "nbformat": 4,
 "nbformat_minor": 0
}
