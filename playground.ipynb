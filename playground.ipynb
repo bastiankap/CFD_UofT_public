{
 "cells": [
  {
   "cell_type": "code",
   "execution_count": 1,
   "outputs": [],
   "source": [
    "from test_matrices import *\n",
    "import scipy.sparse.linalg as lng\n",
    "from scipy.sparse import csr_matrix, csc_matrix\n",
    "import time\n",
    "import numpy as np\n",
    "from solver import *"
   ],
   "metadata": {
    "collapsed": false
   }
  },
  {
   "cell_type": "code",
   "execution_count": 2,
   "outputs": [
    {
     "data": {
      "text/plain": "array([[0.40731347],\n       [0.        ],\n       [0.58053372],\n       [0.        ],\n       [0.5205822 ],\n       [0.40457039],\n       [0.        ],\n       [0.18407439],\n       [0.94703131],\n       [0.9113127 ]])"
     },
     "execution_count": 2,
     "metadata": {},
     "output_type": "execute_result"
    }
   ],
   "source": [
    "A,b =generate_banded_csr(10)\n",
    "b"
   ],
   "metadata": {
    "collapsed": false
   }
  },
  {
   "cell_type": "code",
   "execution_count": 3,
   "outputs": [
    {
     "name": "stdout",
     "output_type": "stream",
     "text": [
      "convergence achieved\n"
     ]
    }
   ],
   "source": [
    "x, err, t = solve_gcrotmk(A,b)"
   ],
   "metadata": {
    "collapsed": false
   }
  },
  {
   "cell_type": "code",
   "execution_count": 29,
   "outputs": [
    {
     "data": {
      "text/plain": "(array([[ 2., -1.,  0.,  3.,  0.,  0.,  0.,  0.,  0.,  0.],\n        [-1.,  2., -1.,  0.,  3.,  0.,  0.,  0.,  0.,  0.],\n        [ 0., -1.,  2., -1.,  0.,  3.,  0.,  0.,  0.,  0.],\n        [ 3.,  0., -1.,  2., -1.,  0.,  3.,  0.,  0.,  0.],\n        [ 0.,  3.,  0., -1.,  2., -1.,  0.,  3.,  0.,  0.],\n        [ 0.,  0.,  3.,  0., -1.,  2., -1.,  0.,  3.,  0.],\n        [ 0.,  0.,  0.,  3.,  0., -1.,  2., -1.,  0.,  3.],\n        [ 0.,  0.,  0.,  0.,  3.,  0., -1.,  2., -1.,  0.],\n        [ 0.,  0.,  0.,  0.,  0.,  3.,  0., -1.,  2., -1.],\n        [ 0.,  0.,  0.,  0.,  0.,  0.,  3.,  0., -1.,  2.]]),\n array([[20, -5,  0,  0,  0],\n        [-5, 15, -5,  0,  0],\n        [ 0, -5, 15, -5,  0],\n        [ 0,  0, -5, 15, -5],\n        [ 0,  0,  0, -5, 10]]),\n array([[1.        , 0.        , 0.        , 0.        , 0.        ,\n         0.        , 0.        , 0.        , 0.        , 0.        ],\n        [0.        , 1.        , 0.        , 0.17636744, 0.        ,\n         0.        , 0.25996139, 0.        , 0.        , 0.        ],\n        [0.        , 0.        , 1.        , 0.        , 0.        ,\n         0.        , 0.        , 0.30700948, 0.        , 0.        ],\n        [0.        , 0.        , 0.        , 1.        , 0.09326866,\n         0.        , 0.        , 0.        , 0.        , 0.19799005],\n        [0.        , 0.        , 0.        , 0.        , 1.        ,\n         0.        , 0.        , 0.3778196 , 0.        , 0.95058826],\n        [0.        , 0.        , 0.        , 0.        , 0.        ,\n         1.        , 0.06902555, 0.        , 0.        , 0.        ],\n        [0.        , 0.        , 0.        , 0.        , 0.        ,\n         0.        , 1.        , 0.19899073, 0.        , 0.        ],\n        [0.        , 0.        , 0.        , 0.        , 0.        ,\n         0.        , 0.23986741, 1.        , 0.        , 0.        ],\n        [0.        , 0.        , 0.        , 0.        , 0.        ,\n         0.        , 0.        , 0.        , 1.        , 0.        ],\n        [0.        , 0.        , 0.        , 0.        , 0.        ,\n         0.        , 0.        , 0.        , 0.        , 1.        ]]),\n array([[  721. ,  -303. ,  1591.5,  -603.5,    72. ,  1154.5,  1209. ,\n           265.5,   770.5,  -114.5],\n        [ -303. , -1077. ,   117. ,   395. ,   304.5,  1142. , -1693.5,\n          -550.5,    86.5,   520. ],\n        [ 1591.5,   117. ,  1126. ,  -248.5,   715.5,   817. , -1021. ,\n           318.5,  -249. ,  -899.5],\n        [ -603.5,   395. ,  -248.5,   226. , -1225.5,  -251.5,    87.5,\n          1897. ,   761.5,  -779. ],\n        [   72. ,   304.5,   715.5, -1225.5,  -728. ,  -918. , -1255. ,\n          -486. , -1087.5,  1054. ],\n        [ 1154.5,  1142. ,   817. ,  -251.5,  -918. ,   738. ,  -651.5,\n         -1370.5,  -120. , -1025.5],\n        [ 1209. , -1693.5, -1021. ,    87.5, -1255. ,  -651.5,  1515. ,\n           -25. ,   -64.5,  1158. ],\n        [  265.5,  -550.5,   318.5,  1897. ,  -486. , -1370.5,   -25. ,\n         -1275. ,  -283. ,    38.5],\n        [  770.5,    86.5,  -249. ,   761.5, -1087.5,  -120. ,   -64.5,\n          -283. ,  1979. ,  1479.5],\n        [ -114.5,   520. ,  -899.5,  -779. ,  1054. , -1025.5,  1158. ,\n            38.5,  1479.5, -1969. ]]),\n array([[0.19272195],\n        [0.2679393 ],\n        [0.69891191],\n        [0.75636441],\n        [0.33039825],\n        [0.52737908],\n        [0.65874479],\n        [0.1554866 ],\n        [0.57940209],\n        [0.14134582]]),\n array([[1.],\n        [1.],\n        [1.],\n        [1.],\n        [1.],\n        [1.],\n        [1.],\n        [1.],\n        [1.],\n        [1.]]),\n [1100, 100, 100, 100, 100])"
     },
     "execution_count": 29,
     "metadata": {},
     "output_type": "execute_result"
    }
   ],
   "source": [
    "generate_test_matrices(10)"
   ],
   "metadata": {
    "collapsed": false
   }
  },
  {
   "cell_type": "code",
   "execution_count": null,
   "outputs": [],
   "source": [],
   "metadata": {
    "collapsed": false
   }
  }
 ],
 "metadata": {
  "kernelspec": {
   "display_name": "Python 3",
   "language": "python",
   "name": "python3"
  },
  "language_info": {
   "codemirror_mode": {
    "name": "ipython",
    "version": 2
   },
   "file_extension": ".py",
   "mimetype": "text/x-python",
   "name": "python",
   "nbconvert_exporter": "python",
   "pygments_lexer": "ipython2",
   "version": "2.7.6"
  }
 },
 "nbformat": 4,
 "nbformat_minor": 0
}
